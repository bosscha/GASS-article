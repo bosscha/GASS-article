{
 "cells": [
  {
   "cell_type": "markdown",
   "metadata": {},
   "source": [
    "## To create initial setup of the long analysis\n",
    "\n",
    "**The standard configuration for the GA is the following (2018.04.16):**\n",
    "\n",
    "Population : 200 <br>\n",
    "Iteration  : 150  <br>\n",
    "Threshold  : -0.05  <br> \n",
    "Termination: False  <br> \n",
    "Mutation   : 0.05   <br> \n",
    "Elitism    : 5   <br>\n",
    "Tournament : 5   <br>\n",
    "\n",
    "\n",
    "01.01.2018: **Iteration** of 150 was confirmed."
   ]
  },
  {
   "cell_type": "code",
   "execution_count": 1,
   "metadata": {},
   "outputs": [],
   "source": [
    "def create_string_of_N_float(n,x):\n",
    "    s = \"\"\n",
    "    \n",
    "    for i in range(n-1):\n",
    "        s += \" %f,\"%(x)\n",
    "    s+= \" %f\"%(x)\n",
    "    return(s)\n",
    "    \n",
    "\n",
    "def create_string_of_N_int(n,res):\n",
    "    s = \"\"\n",
    "    \n",
    "    for i in range(n-1):\n",
    "        s += \" %d,\"%(res)\n",
    "    s+= \" %d\"%(res)\n",
    "    return(s) \n",
    "\n",
    "\n",
    "def create_string_of_N_string(n,res):\n",
    "    s = \"\"\n",
    "    \n",
    "    for i in range(n-1):\n",
    "        s += \"%s,\"%(res)\n",
    "    s += \"%s\"%(res)\n",
    "    return(s)\n",
    "\n",
    "def display_input_gass(iteration,pop,termination,threshold,mut,tournament,elitism):\n",
    "    \n",
    "    print(\"Number_of_Iterations : %s\"%(iteration))\n",
    "    print(\"Population_Size : %s\"%(pop))\n",
    "    print(\"Termination_Condition : %s\"%(termination))\n",
    "    print(\"Threshold : %s\"%(threshold))\n",
    "    print(\"Mutation_Rate : %s\"%(mut))\n",
    "    print(\"Tournament_Size  : %s\"%(tournament))\n",
    "    print(\"Number_for_Elitism :%s\"%(elitism))\n",
    "    "
   ]
  },
  {
   "cell_type": "markdown",
   "metadata": {},
   "source": [
    "### Elitism..."
   ]
  },
  {
   "cell_type": "code",
   "execution_count": 2,
   "metadata": {},
   "outputs": [],
   "source": [
    "iteration = create_string_of_N_int(100,150)\n",
    "termination = create_string_of_N_string(100,'False')\n",
    "threshold = create_string_of_N_float(100,-0.05)\n",
    "pop = create_string_of_N_int(100,150)\n",
    "mut = create_string_of_N_float(100,0.05)\n",
    "tournament = create_string_of_N_int(100,5)"
   ]
  },
  {
   "cell_type": "code",
   "execution_count": 3,
   "metadata": {},
   "outputs": [],
   "source": [
    "s1 = create_string_of_N_int(10,1)\n",
    "s2 = create_string_of_N_int(10,2)\n",
    "s3 = create_string_of_N_int(10,4)\n",
    "s4 = create_string_of_N_int(10,6)\n",
    "s5 = create_string_of_N_int(10,8)\n",
    "s6 = create_string_of_N_int(10,10)\n",
    "s7 = create_string_of_N_int(10,20)\n",
    "s8 = create_string_of_N_int(10,40)\n",
    "s9 = create_string_of_N_int(10,60)\n",
    "s10 = create_string_of_N_int(10,100)\n",
    "\n",
    "\n",
    "elitism = s1+','+s2+','+s3 +','+s4+','+s5 +','+s6+','+s7 +','+s8+','+s9 +','+s10\n"
   ]
  },
  {
   "cell_type": "code",
   "execution_count": 4,
   "metadata": {},
   "outputs": [
    {
     "name": "stdout",
     "output_type": "stream",
     "text": [
      "Number_of_Iterations :  150, 150, 150, 150, 150, 150, 150, 150, 150, 150, 150, 150, 150, 150, 150, 150, 150, 150, 150, 150, 150, 150, 150, 150, 150, 150, 150, 150, 150, 150, 150, 150, 150, 150, 150, 150, 150, 150, 150, 150, 150, 150, 150, 150, 150, 150, 150, 150, 150, 150, 150, 150, 150, 150, 150, 150, 150, 150, 150, 150, 150, 150, 150, 150, 150, 150, 150, 150, 150, 150, 150, 150, 150, 150, 150, 150, 150, 150, 150, 150, 150, 150, 150, 150, 150, 150, 150, 150, 150, 150, 150, 150, 150, 150, 150, 150, 150, 150, 150, 150\n",
      "Population_Size :  150, 150, 150, 150, 150, 150, 150, 150, 150, 150, 150, 150, 150, 150, 150, 150, 150, 150, 150, 150, 150, 150, 150, 150, 150, 150, 150, 150, 150, 150, 150, 150, 150, 150, 150, 150, 150, 150, 150, 150, 150, 150, 150, 150, 150, 150, 150, 150, 150, 150, 150, 150, 150, 150, 150, 150, 150, 150, 150, 150, 150, 150, 150, 150, 150, 150, 150, 150, 150, 150, 150, 150, 150, 150, 150, 150, 150, 150, 150, 150, 150, 150, 150, 150, 150, 150, 150, 150, 150, 150, 150, 150, 150, 150, 150, 150, 150, 150, 150, 150\n",
      "Termination_Condition : False,False,False,False,False,False,False,False,False,False,False,False,False,False,False,False,False,False,False,False,False,False,False,False,False,False,False,False,False,False,False,False,False,False,False,False,False,False,False,False,False,False,False,False,False,False,False,False,False,False,False,False,False,False,False,False,False,False,False,False,False,False,False,False,False,False,False,False,False,False,False,False,False,False,False,False,False,False,False,False,False,False,False,False,False,False,False,False,False,False,False,False,False,False,False,False,False,False,False,False\n",
      "Threshold :  -0.050000, -0.050000, -0.050000, -0.050000, -0.050000, -0.050000, -0.050000, -0.050000, -0.050000, -0.050000, -0.050000, -0.050000, -0.050000, -0.050000, -0.050000, -0.050000, -0.050000, -0.050000, -0.050000, -0.050000, -0.050000, -0.050000, -0.050000, -0.050000, -0.050000, -0.050000, -0.050000, -0.050000, -0.050000, -0.050000, -0.050000, -0.050000, -0.050000, -0.050000, -0.050000, -0.050000, -0.050000, -0.050000, -0.050000, -0.050000, -0.050000, -0.050000, -0.050000, -0.050000, -0.050000, -0.050000, -0.050000, -0.050000, -0.050000, -0.050000, -0.050000, -0.050000, -0.050000, -0.050000, -0.050000, -0.050000, -0.050000, -0.050000, -0.050000, -0.050000, -0.050000, -0.050000, -0.050000, -0.050000, -0.050000, -0.050000, -0.050000, -0.050000, -0.050000, -0.050000, -0.050000, -0.050000, -0.050000, -0.050000, -0.050000, -0.050000, -0.050000, -0.050000, -0.050000, -0.050000, -0.050000, -0.050000, -0.050000, -0.050000, -0.050000, -0.050000, -0.050000, -0.050000, -0.050000, -0.050000, -0.050000, -0.050000, -0.050000, -0.050000, -0.050000, -0.050000, -0.050000, -0.050000, -0.050000, -0.050000\n",
      "Mutation_Rate :  0.050000, 0.050000, 0.050000, 0.050000, 0.050000, 0.050000, 0.050000, 0.050000, 0.050000, 0.050000, 0.050000, 0.050000, 0.050000, 0.050000, 0.050000, 0.050000, 0.050000, 0.050000, 0.050000, 0.050000, 0.050000, 0.050000, 0.050000, 0.050000, 0.050000, 0.050000, 0.050000, 0.050000, 0.050000, 0.050000, 0.050000, 0.050000, 0.050000, 0.050000, 0.050000, 0.050000, 0.050000, 0.050000, 0.050000, 0.050000, 0.050000, 0.050000, 0.050000, 0.050000, 0.050000, 0.050000, 0.050000, 0.050000, 0.050000, 0.050000, 0.050000, 0.050000, 0.050000, 0.050000, 0.050000, 0.050000, 0.050000, 0.050000, 0.050000, 0.050000, 0.050000, 0.050000, 0.050000, 0.050000, 0.050000, 0.050000, 0.050000, 0.050000, 0.050000, 0.050000, 0.050000, 0.050000, 0.050000, 0.050000, 0.050000, 0.050000, 0.050000, 0.050000, 0.050000, 0.050000, 0.050000, 0.050000, 0.050000, 0.050000, 0.050000, 0.050000, 0.050000, 0.050000, 0.050000, 0.050000, 0.050000, 0.050000, 0.050000, 0.050000, 0.050000, 0.050000, 0.050000, 0.050000, 0.050000, 0.050000\n",
      "Tournament_Size  :  5, 5, 5, 5, 5, 5, 5, 5, 5, 5, 5, 5, 5, 5, 5, 5, 5, 5, 5, 5, 5, 5, 5, 5, 5, 5, 5, 5, 5, 5, 5, 5, 5, 5, 5, 5, 5, 5, 5, 5, 5, 5, 5, 5, 5, 5, 5, 5, 5, 5, 5, 5, 5, 5, 5, 5, 5, 5, 5, 5, 5, 5, 5, 5, 5, 5, 5, 5, 5, 5, 5, 5, 5, 5, 5, 5, 5, 5, 5, 5, 5, 5, 5, 5, 5, 5, 5, 5, 5, 5, 5, 5, 5, 5, 5, 5, 5, 5, 5, 5\n",
      "Number_for_Elitism : 1, 1, 1, 1, 1, 1, 1, 1, 1, 1, 2, 2, 2, 2, 2, 2, 2, 2, 2, 2, 4, 4, 4, 4, 4, 4, 4, 4, 4, 4, 6, 6, 6, 6, 6, 6, 6, 6, 6, 6, 8, 8, 8, 8, 8, 8, 8, 8, 8, 8, 10, 10, 10, 10, 10, 10, 10, 10, 10, 10, 20, 20, 20, 20, 20, 20, 20, 20, 20, 20, 40, 40, 40, 40, 40, 40, 40, 40, 40, 40, 60, 60, 60, 60, 60, 60, 60, 60, 60, 60, 100, 100, 100, 100, 100, 100, 100, 100, 100, 100\n"
     ]
    }
   ],
   "source": [
    "display_input_gass(iteration,pop,termination,threshold,mut,tournament,elitism)"
   ]
  },
  {
   "cell_type": "markdown",
   "metadata": {},
   "source": [
    "### Mutation Rate ..."
   ]
  },
  {
   "cell_type": "code",
   "execution_count": 5,
   "metadata": {},
   "outputs": [],
   "source": [
    "iteration = create_string_of_N_int(12,200)\n",
    "termination = create_string_of_N_string(12,'False')\n",
    "threshold = create_string_of_N_float(12,-0.05)\n",
    "pop = create_string_of_N_int(12,200)\n",
    "elitism = create_string_of_N_int(12,2)\n",
    "tournament = create_string_of_N_int(12,5)"
   ]
  },
  {
   "cell_type": "code",
   "execution_count": 6,
   "metadata": {},
   "outputs": [],
   "source": [
    "s1 = create_string_of_N_float(4,0.01)\n",
    "s2 = create_string_of_N_float(4,0.05)\n",
    "s3 = create_string_of_N_float(4,0.1)\n",
    "mut = s1+','+s2+','+s3"
   ]
  },
  {
   "cell_type": "code",
   "execution_count": 7,
   "metadata": {},
   "outputs": [
    {
     "name": "stdout",
     "output_type": "stream",
     "text": [
      "Number_of_Iterations :  200, 200, 200, 200, 200, 200, 200, 200, 200, 200, 200, 200\n",
      "Population_Size :  200, 200, 200, 200, 200, 200, 200, 200, 200, 200, 200, 200\n",
      "Termination_Condition : False,False,False,False,False,False,False,False,False,False,False,False\n",
      "Threshold :  -0.050000, -0.050000, -0.050000, -0.050000, -0.050000, -0.050000, -0.050000, -0.050000, -0.050000, -0.050000, -0.050000, -0.050000\n",
      "Mutation_Rate :  0.010000, 0.010000, 0.010000, 0.010000, 0.050000, 0.050000, 0.050000, 0.050000, 0.100000, 0.100000, 0.100000, 0.100000\n",
      "Tournament_Size  :  5, 5, 5, 5, 5, 5, 5, 5, 5, 5, 5, 5\n",
      "Number_for_Elitism : 2, 2, 2, 2, 2, 2, 2, 2, 2, 2, 2, 2\n"
     ]
    }
   ],
   "source": [
    "display_input_gass(iteration,pop,termination,threshold,mut,tournament,elitism)"
   ]
  },
  {
   "cell_type": "markdown",
   "metadata": {},
   "source": [
    "### Population size"
   ]
  },
  {
   "cell_type": "code",
   "execution_count": 8,
   "metadata": {},
   "outputs": [
    {
     "name": "stdout",
     "output_type": "stream",
     "text": [
      "110\n"
     ]
    }
   ],
   "source": [
    "iteration0 = ''\n",
    "it = 0\n",
    "for i in range(10,220,20):\n",
    "    iteration0 += create_string_of_N_int(10,i) + ','\n",
    "    it += 10\n",
    "pop = iteration0[0:-1]\n",
    "\n",
    "print(it)"
   ]
  },
  {
   "cell_type": "code",
   "execution_count": 9,
   "metadata": {},
   "outputs": [],
   "source": [
    "tournament = create_string_of_N_int(it,5)\n",
    "termination = create_string_of_N_string(it,'False')\n",
    "threshold = create_string_of_N_float(it,-0.05)\n",
    "mut = create_string_of_N_float(it,0.05)\n",
    "elitism = create_string_of_N_int(it,5)\n",
    "iteration = create_string_of_N_int(it,150)"
   ]
  },
  {
   "cell_type": "code",
   "execution_count": 10,
   "metadata": {},
   "outputs": [
    {
     "name": "stdout",
     "output_type": "stream",
     "text": [
      "Number_of_Iterations :  150, 150, 150, 150, 150, 150, 150, 150, 150, 150, 150, 150, 150, 150, 150, 150, 150, 150, 150, 150, 150, 150, 150, 150, 150, 150, 150, 150, 150, 150, 150, 150, 150, 150, 150, 150, 150, 150, 150, 150, 150, 150, 150, 150, 150, 150, 150, 150, 150, 150, 150, 150, 150, 150, 150, 150, 150, 150, 150, 150, 150, 150, 150, 150, 150, 150, 150, 150, 150, 150, 150, 150, 150, 150, 150, 150, 150, 150, 150, 150, 150, 150, 150, 150, 150, 150, 150, 150, 150, 150, 150, 150, 150, 150, 150, 150, 150, 150, 150, 150, 150, 150, 150, 150, 150, 150, 150, 150, 150, 150\n",
      "Population_Size :  10, 10, 10, 10, 10, 10, 10, 10, 10, 10, 30, 30, 30, 30, 30, 30, 30, 30, 30, 30, 50, 50, 50, 50, 50, 50, 50, 50, 50, 50, 70, 70, 70, 70, 70, 70, 70, 70, 70, 70, 90, 90, 90, 90, 90, 90, 90, 90, 90, 90, 110, 110, 110, 110, 110, 110, 110, 110, 110, 110, 130, 130, 130, 130, 130, 130, 130, 130, 130, 130, 150, 150, 150, 150, 150, 150, 150, 150, 150, 150, 170, 170, 170, 170, 170, 170, 170, 170, 170, 170, 190, 190, 190, 190, 190, 190, 190, 190, 190, 190, 210, 210, 210, 210, 210, 210, 210, 210, 210, 210\n",
      "Termination_Condition : False,False,False,False,False,False,False,False,False,False,False,False,False,False,False,False,False,False,False,False,False,False,False,False,False,False,False,False,False,False,False,False,False,False,False,False,False,False,False,False,False,False,False,False,False,False,False,False,False,False,False,False,False,False,False,False,False,False,False,False,False,False,False,False,False,False,False,False,False,False,False,False,False,False,False,False,False,False,False,False,False,False,False,False,False,False,False,False,False,False,False,False,False,False,False,False,False,False,False,False,False,False,False,False,False,False,False,False,False,False\n",
      "Threshold :  -0.050000, -0.050000, -0.050000, -0.050000, -0.050000, -0.050000, -0.050000, -0.050000, -0.050000, -0.050000, -0.050000, -0.050000, -0.050000, -0.050000, -0.050000, -0.050000, -0.050000, -0.050000, -0.050000, -0.050000, -0.050000, -0.050000, -0.050000, -0.050000, -0.050000, -0.050000, -0.050000, -0.050000, -0.050000, -0.050000, -0.050000, -0.050000, -0.050000, -0.050000, -0.050000, -0.050000, -0.050000, -0.050000, -0.050000, -0.050000, -0.050000, -0.050000, -0.050000, -0.050000, -0.050000, -0.050000, -0.050000, -0.050000, -0.050000, -0.050000, -0.050000, -0.050000, -0.050000, -0.050000, -0.050000, -0.050000, -0.050000, -0.050000, -0.050000, -0.050000, -0.050000, -0.050000, -0.050000, -0.050000, -0.050000, -0.050000, -0.050000, -0.050000, -0.050000, -0.050000, -0.050000, -0.050000, -0.050000, -0.050000, -0.050000, -0.050000, -0.050000, -0.050000, -0.050000, -0.050000, -0.050000, -0.050000, -0.050000, -0.050000, -0.050000, -0.050000, -0.050000, -0.050000, -0.050000, -0.050000, -0.050000, -0.050000, -0.050000, -0.050000, -0.050000, -0.050000, -0.050000, -0.050000, -0.050000, -0.050000, -0.050000, -0.050000, -0.050000, -0.050000, -0.050000, -0.050000, -0.050000, -0.050000, -0.050000, -0.050000\n",
      "Mutation_Rate :  0.050000, 0.050000, 0.050000, 0.050000, 0.050000, 0.050000, 0.050000, 0.050000, 0.050000, 0.050000, 0.050000, 0.050000, 0.050000, 0.050000, 0.050000, 0.050000, 0.050000, 0.050000, 0.050000, 0.050000, 0.050000, 0.050000, 0.050000, 0.050000, 0.050000, 0.050000, 0.050000, 0.050000, 0.050000, 0.050000, 0.050000, 0.050000, 0.050000, 0.050000, 0.050000, 0.050000, 0.050000, 0.050000, 0.050000, 0.050000, 0.050000, 0.050000, 0.050000, 0.050000, 0.050000, 0.050000, 0.050000, 0.050000, 0.050000, 0.050000, 0.050000, 0.050000, 0.050000, 0.050000, 0.050000, 0.050000, 0.050000, 0.050000, 0.050000, 0.050000, 0.050000, 0.050000, 0.050000, 0.050000, 0.050000, 0.050000, 0.050000, 0.050000, 0.050000, 0.050000, 0.050000, 0.050000, 0.050000, 0.050000, 0.050000, 0.050000, 0.050000, 0.050000, 0.050000, 0.050000, 0.050000, 0.050000, 0.050000, 0.050000, 0.050000, 0.050000, 0.050000, 0.050000, 0.050000, 0.050000, 0.050000, 0.050000, 0.050000, 0.050000, 0.050000, 0.050000, 0.050000, 0.050000, 0.050000, 0.050000, 0.050000, 0.050000, 0.050000, 0.050000, 0.050000, 0.050000, 0.050000, 0.050000, 0.050000, 0.050000\n",
      "Tournament_Size  :  5, 5, 5, 5, 5, 5, 5, 5, 5, 5, 5, 5, 5, 5, 5, 5, 5, 5, 5, 5, 5, 5, 5, 5, 5, 5, 5, 5, 5, 5, 5, 5, 5, 5, 5, 5, 5, 5, 5, 5, 5, 5, 5, 5, 5, 5, 5, 5, 5, 5, 5, 5, 5, 5, 5, 5, 5, 5, 5, 5, 5, 5, 5, 5, 5, 5, 5, 5, 5, 5, 5, 5, 5, 5, 5, 5, 5, 5, 5, 5, 5, 5, 5, 5, 5, 5, 5, 5, 5, 5, 5, 5, 5, 5, 5, 5, 5, 5, 5, 5, 5, 5, 5, 5, 5, 5, 5, 5, 5, 5\n",
      "Number_for_Elitism : 5, 5, 5, 5, 5, 5, 5, 5, 5, 5, 5, 5, 5, 5, 5, 5, 5, 5, 5, 5, 5, 5, 5, 5, 5, 5, 5, 5, 5, 5, 5, 5, 5, 5, 5, 5, 5, 5, 5, 5, 5, 5, 5, 5, 5, 5, 5, 5, 5, 5, 5, 5, 5, 5, 5, 5, 5, 5, 5, 5, 5, 5, 5, 5, 5, 5, 5, 5, 5, 5, 5, 5, 5, 5, 5, 5, 5, 5, 5, 5, 5, 5, 5, 5, 5, 5, 5, 5, 5, 5, 5, 5, 5, 5, 5, 5, 5, 5, 5, 5, 5, 5, 5, 5, 5, 5, 5, 5, 5, 5\n"
     ]
    }
   ],
   "source": [
    "display_input_gass(iteration,pop,termination,threshold,mut,tournament,elitism)"
   ]
  },
  {
   "cell_type": "markdown",
   "metadata": {},
   "source": [
    "### Tournament"
   ]
  },
  {
   "cell_type": "code",
   "execution_count": 11,
   "metadata": {},
   "outputs": [],
   "source": [
    "iteration = create_string_of_N_int(12,200)\n",
    "termination = create_string_of_N_string(12,'False')\n",
    "threshold = create_string_of_N_float(12,-0.05)\n",
    "mut = create_string_of_N_float(12,0.05)\n",
    "elitism = create_string_of_N_int(12,2)\n",
    "pop = create_string_of_N_int(12,5)"
   ]
  },
  {
   "cell_type": "code",
   "execution_count": 12,
   "metadata": {},
   "outputs": [],
   "source": [
    "s1 = create_string_of_N_int(4,2)\n",
    "s2 = create_string_of_N_int(4,5)\n",
    "s3 = create_string_of_N_int(4,10)\n",
    "tournament = s1+','+s2+','+s3"
   ]
  },
  {
   "cell_type": "code",
   "execution_count": 13,
   "metadata": {},
   "outputs": [
    {
     "name": "stdout",
     "output_type": "stream",
     "text": [
      "Number_of_Iterations :  200, 200, 200, 200, 200, 200, 200, 200, 200, 200, 200, 200\n",
      "Population_Size :  5, 5, 5, 5, 5, 5, 5, 5, 5, 5, 5, 5\n",
      "Termination_Condition : False,False,False,False,False,False,False,False,False,False,False,False\n",
      "Threshold :  -0.050000, -0.050000, -0.050000, -0.050000, -0.050000, -0.050000, -0.050000, -0.050000, -0.050000, -0.050000, -0.050000, -0.050000\n",
      "Mutation_Rate :  0.050000, 0.050000, 0.050000, 0.050000, 0.050000, 0.050000, 0.050000, 0.050000, 0.050000, 0.050000, 0.050000, 0.050000\n",
      "Tournament_Size  :  2, 2, 2, 2, 5, 5, 5, 5, 10, 10, 10, 10\n",
      "Number_for_Elitism : 2, 2, 2, 2, 2, 2, 2, 2, 2, 2, 2, 2\n"
     ]
    }
   ],
   "source": [
    "display_input_gass(iteration,pop,termination,threshold,mut,tournament,elitism)"
   ]
  },
  {
   "cell_type": "markdown",
   "metadata": {},
   "source": [
    "### Iteration number "
   ]
  },
  {
   "cell_type": "code",
   "execution_count": 14,
   "metadata": {},
   "outputs": [
    {
     "name": "stdout",
     "output_type": "stream",
     "text": [
      "110\n"
     ]
    }
   ],
   "source": [
    "iteration0 = ''\n",
    "it = 0\n",
    "for i in range(10,220,20):\n",
    "    iteration0 += create_string_of_N_int(10,i) + ','\n",
    "    it += 10\n",
    "iteration = iteration0[0:-1]\n",
    "\n",
    "print(it)"
   ]
  },
  {
   "cell_type": "code",
   "execution_count": 15,
   "metadata": {},
   "outputs": [],
   "source": [
    "tournament = create_string_of_N_int(it,5)\n",
    "termination = create_string_of_N_string(it,'False')\n",
    "threshold = create_string_of_N_float(it,-0.05)\n",
    "mut = create_string_of_N_float(it,0.05)\n",
    "elitism = create_string_of_N_int(it,5)\n",
    "pop = create_string_of_N_int(it,100)"
   ]
  },
  {
   "cell_type": "code",
   "execution_count": 16,
   "metadata": {
    "scrolled": true
   },
   "outputs": [
    {
     "name": "stdout",
     "output_type": "stream",
     "text": [
      "Number_of_Iterations :  10, 10, 10, 10, 10, 10, 10, 10, 10, 10, 30, 30, 30, 30, 30, 30, 30, 30, 30, 30, 50, 50, 50, 50, 50, 50, 50, 50, 50, 50, 70, 70, 70, 70, 70, 70, 70, 70, 70, 70, 90, 90, 90, 90, 90, 90, 90, 90, 90, 90, 110, 110, 110, 110, 110, 110, 110, 110, 110, 110, 130, 130, 130, 130, 130, 130, 130, 130, 130, 130, 150, 150, 150, 150, 150, 150, 150, 150, 150, 150, 170, 170, 170, 170, 170, 170, 170, 170, 170, 170, 190, 190, 190, 190, 190, 190, 190, 190, 190, 190, 210, 210, 210, 210, 210, 210, 210, 210, 210, 210\n",
      "Population_Size :  100, 100, 100, 100, 100, 100, 100, 100, 100, 100, 100, 100, 100, 100, 100, 100, 100, 100, 100, 100, 100, 100, 100, 100, 100, 100, 100, 100, 100, 100, 100, 100, 100, 100, 100, 100, 100, 100, 100, 100, 100, 100, 100, 100, 100, 100, 100, 100, 100, 100, 100, 100, 100, 100, 100, 100, 100, 100, 100, 100, 100, 100, 100, 100, 100, 100, 100, 100, 100, 100, 100, 100, 100, 100, 100, 100, 100, 100, 100, 100, 100, 100, 100, 100, 100, 100, 100, 100, 100, 100, 100, 100, 100, 100, 100, 100, 100, 100, 100, 100, 100, 100, 100, 100, 100, 100, 100, 100, 100, 100\n",
      "Termination_Condition : False,False,False,False,False,False,False,False,False,False,False,False,False,False,False,False,False,False,False,False,False,False,False,False,False,False,False,False,False,False,False,False,False,False,False,False,False,False,False,False,False,False,False,False,False,False,False,False,False,False,False,False,False,False,False,False,False,False,False,False,False,False,False,False,False,False,False,False,False,False,False,False,False,False,False,False,False,False,False,False,False,False,False,False,False,False,False,False,False,False,False,False,False,False,False,False,False,False,False,False,False,False,False,False,False,False,False,False,False,False\n",
      "Threshold :  -0.050000, -0.050000, -0.050000, -0.050000, -0.050000, -0.050000, -0.050000, -0.050000, -0.050000, -0.050000, -0.050000, -0.050000, -0.050000, -0.050000, -0.050000, -0.050000, -0.050000, -0.050000, -0.050000, -0.050000, -0.050000, -0.050000, -0.050000, -0.050000, -0.050000, -0.050000, -0.050000, -0.050000, -0.050000, -0.050000, -0.050000, -0.050000, -0.050000, -0.050000, -0.050000, -0.050000, -0.050000, -0.050000, -0.050000, -0.050000, -0.050000, -0.050000, -0.050000, -0.050000, -0.050000, -0.050000, -0.050000, -0.050000, -0.050000, -0.050000, -0.050000, -0.050000, -0.050000, -0.050000, -0.050000, -0.050000, -0.050000, -0.050000, -0.050000, -0.050000, -0.050000, -0.050000, -0.050000, -0.050000, -0.050000, -0.050000, -0.050000, -0.050000, -0.050000, -0.050000, -0.050000, -0.050000, -0.050000, -0.050000, -0.050000, -0.050000, -0.050000, -0.050000, -0.050000, -0.050000, -0.050000, -0.050000, -0.050000, -0.050000, -0.050000, -0.050000, -0.050000, -0.050000, -0.050000, -0.050000, -0.050000, -0.050000, -0.050000, -0.050000, -0.050000, -0.050000, -0.050000, -0.050000, -0.050000, -0.050000, -0.050000, -0.050000, -0.050000, -0.050000, -0.050000, -0.050000, -0.050000, -0.050000, -0.050000, -0.050000\n",
      "Mutation_Rate :  0.050000, 0.050000, 0.050000, 0.050000, 0.050000, 0.050000, 0.050000, 0.050000, 0.050000, 0.050000, 0.050000, 0.050000, 0.050000, 0.050000, 0.050000, 0.050000, 0.050000, 0.050000, 0.050000, 0.050000, 0.050000, 0.050000, 0.050000, 0.050000, 0.050000, 0.050000, 0.050000, 0.050000, 0.050000, 0.050000, 0.050000, 0.050000, 0.050000, 0.050000, 0.050000, 0.050000, 0.050000, 0.050000, 0.050000, 0.050000, 0.050000, 0.050000, 0.050000, 0.050000, 0.050000, 0.050000, 0.050000, 0.050000, 0.050000, 0.050000, 0.050000, 0.050000, 0.050000, 0.050000, 0.050000, 0.050000, 0.050000, 0.050000, 0.050000, 0.050000, 0.050000, 0.050000, 0.050000, 0.050000, 0.050000, 0.050000, 0.050000, 0.050000, 0.050000, 0.050000, 0.050000, 0.050000, 0.050000, 0.050000, 0.050000, 0.050000, 0.050000, 0.050000, 0.050000, 0.050000, 0.050000, 0.050000, 0.050000, 0.050000, 0.050000, 0.050000, 0.050000, 0.050000, 0.050000, 0.050000, 0.050000, 0.050000, 0.050000, 0.050000, 0.050000, 0.050000, 0.050000, 0.050000, 0.050000, 0.050000, 0.050000, 0.050000, 0.050000, 0.050000, 0.050000, 0.050000, 0.050000, 0.050000, 0.050000, 0.050000\n",
      "Tournament_Size  :  5, 5, 5, 5, 5, 5, 5, 5, 5, 5, 5, 5, 5, 5, 5, 5, 5, 5, 5, 5, 5, 5, 5, 5, 5, 5, 5, 5, 5, 5, 5, 5, 5, 5, 5, 5, 5, 5, 5, 5, 5, 5, 5, 5, 5, 5, 5, 5, 5, 5, 5, 5, 5, 5, 5, 5, 5, 5, 5, 5, 5, 5, 5, 5, 5, 5, 5, 5, 5, 5, 5, 5, 5, 5, 5, 5, 5, 5, 5, 5, 5, 5, 5, 5, 5, 5, 5, 5, 5, 5, 5, 5, 5, 5, 5, 5, 5, 5, 5, 5, 5, 5, 5, 5, 5, 5, 5, 5, 5, 5\n",
      "Number_for_Elitism : 5, 5, 5, 5, 5, 5, 5, 5, 5, 5, 5, 5, 5, 5, 5, 5, 5, 5, 5, 5, 5, 5, 5, 5, 5, 5, 5, 5, 5, 5, 5, 5, 5, 5, 5, 5, 5, 5, 5, 5, 5, 5, 5, 5, 5, 5, 5, 5, 5, 5, 5, 5, 5, 5, 5, 5, 5, 5, 5, 5, 5, 5, 5, 5, 5, 5, 5, 5, 5, 5, 5, 5, 5, 5, 5, 5, 5, 5, 5, 5, 5, 5, 5, 5, 5, 5, 5, 5, 5, 5, 5, 5, 5, 5, 5, 5, 5, 5, 5, 5, 5, 5, 5, 5, 5, 5, 5, 5, 5, 5\n"
     ]
    }
   ],
   "source": [
    "display_input_gass(iteration,pop,termination,threshold,mut,tournament,elitism)"
   ]
  }
 ],
 "metadata": {
  "kernelspec": {
   "display_name": "Python 3",
   "language": "python",
   "name": "python3"
  },
  "language_info": {
   "codemirror_mode": {
    "name": "ipython",
    "version": 3
   },
   "file_extension": ".py",
   "mimetype": "text/x-python",
   "name": "python",
   "nbconvert_exporter": "python",
   "pygments_lexer": "ipython3",
   "version": "3.6.5"
  }
 },
 "nbformat": 4,
 "nbformat_minor": 2
}
