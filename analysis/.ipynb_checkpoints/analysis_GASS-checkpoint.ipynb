{
 "cells": [
  {
   "cell_type": "markdown",
   "metadata": {},
   "source": [
    "## Analysis GASS\n",
    "\n",
    "This notebook is meant to analyze the results of the GASS optimisation testing.\n",
    "\n",
    "\n",
    "\n",
    "**History:** <br>\n",
    "01.05.2018: moving to python3 <br>\n",
    "02.05.2018: test sync dropbox/fithub/kubox"
   ]
  },
  {
   "cell_type": "code",
   "execution_count": 30,
   "metadata": {},
   "outputs": [],
   "source": [
    "import matplotlib.pyplot as pl\n",
    "import numpy as np\n",
    "import pickle\n",
    "\n",
    "%matplotlib inline\n",
    "\n",
    "dirResults = \"./results/\""
   ]
  },
  {
   "cell_type": "code",
   "execution_count": 31,
   "metadata": {},
   "outputs": [],
   "source": [
    "def read_pickle(filedata):\n",
    "    \n",
    "    with open(dirResults+filedata, 'rb') as f:\n",
    "        data = pickle.load(f,encoding='latin1')\n",
    "    \n",
    "    return(data)\n",
    "\n",
    "##########################################\n",
    "\n",
    "def find_range_value(arr,val):\n",
    "    \"find start and end for val in arr\"\n",
    "    \n",
    "    start, end = 0 , 0\n",
    "    startFound = False\n",
    "    \n",
    "    for i in range(len(arr)):\n",
    "        if arr[i] == val and not startFound:\n",
    "            start = i\n",
    "            startFound = True\n",
    "            \n",
    "        if arr[i] == val and startFound: \n",
    "            end = i\n",
    "            \n",
    "    return(start, end)\n",
    "        \n",
    "#########################################       \n",
    "    \n",
    "def stat_data(key,data):\n",
    "    \"Compute the stats on the Score\"\n",
    "    \n",
    "    runningValue = data[key][0]\n",
    "    endInd = len(data[key])\n",
    "    \n",
    "    tempDat = []\n",
    "    tempScoMean = []\n",
    "    tempScoStd  = []\n",
    "    \n",
    "    endFound = False\n",
    "    while(not endFound):\n",
    "        ist , ien = find_range_value(data[key], runningValue)\n",
    "        sco = np.array(data['Score'][ist:ien])\n",
    "        \n",
    "        mn = np.mean(sco)\n",
    "        std =  np.std(sco)\n",
    "        \n",
    "        tempDat.append(runningValue)\n",
    "        tempScoMean.append(mn)\n",
    "        tempScoStd.append(std)\n",
    "            \n",
    "        if ien < endInd-1:\n",
    "            runningValue = runningValue = data[key][ien+1]\n",
    "        else:\n",
    "            endFound = True\n",
    "            \n",
    "    dataStat = {}\n",
    "\n",
    "    dataStat[key] = tempDat\n",
    "    \n",
    "    dataStat['Score'] = {}\n",
    "    dataStat['Score']['Mean'] = tempScoMean\n",
    "    dataStat['Score']['Std'] = tempScoStd\n",
    "        \n",
    "    return(dataStat) \n",
    "  "
   ]
  },
  {
   "cell_type": "markdown",
   "metadata": {},
   "source": [
    "### Score\n",
    "\n",
    "The score is computed as following: <br>\n",
    "\n",
    "The total score is computed: <br>\n",
    "$$\n",
    "\t\\begin{equation}\\label{subarray_score}\n",
    "\t\\begin{split} \n",
    "\tscore\\_array\\_j=-\\sum_{i=1}^{M} w_{subarray\\_i} \\times score\\_subarray\\_i\n",
    "\t\\end{split}\n",
    "\t\\end{equation}\n",
    "$$ <br>\n",
    "\n",
    "With the score for each subarray: <br>\n",
    "$$\n",
    "\t\\begin{equation}\\label{score}\n",
    "\t\\begin{split} \n",
    "\tscore\\_subarray\\_i=& w_{\\theta_{res},i}\\times|\\theta_{res\\_obj,i}-\\theta_{res,i}|\\\\\n",
    "\t+& w_{\\theta_{MRS},i}\\times|\\theta_{MRS\\_obj,i}-\\theta_{MRS,i}| \\times sign(\\theta_{MRS\\_obj,i}-\\theta_{MRS,i})\\\\\n",
    "\t+& w_{e,i}\\times|e_{obj,i}-e_i| \\times sign(e_i-e_{obj,i})\\\\\n",
    "\t+& w_{s,i}\\times|s_{obj,i}-s_i| \\times sign(s_i-s_{obj,i})\n",
    "\t\\end{split}\n",
    "\t\\end{equation}\n",
    "$$ <br>\n",
    "\n",
    "It appears that the score should be at least zero and increasing. Given that some subscore can be positive a zero or positive score does not mean that all contraints are completed. **We scale to percentage by multiplying by 100**."
   ]
  },
  {
   "cell_type": "markdown",
   "metadata": {},
   "source": [
    "### Iteration -------\n",
    "\n",
    "This plot shows the impact of the iteration number on the score with a dispersion on 10 values for each point. <br>\n",
    "\n",
    "**Results** : 150 is a conservative value for convergence. We will use it in the following simulation\n",
    "\n",
    "Last simulation:  Results_30-04-2018_15:57:52\n"
   ]
  },
  {
   "cell_type": "code",
   "execution_count": 32,
   "metadata": {
    "scrolled": true
   },
   "outputs": [],
   "source": [
    "data = read_pickle('score_iteration.pkl')\n",
    "\n",
    "d = stat_data('Iteration',data)\n",
    "\n",
    "# print(d['Score']['Mean'])\n"
   ]
  },
  {
   "cell_type": "code",
   "execution_count": 33,
   "metadata": {},
   "outputs": [
    {
     "data": {
      "image/png": "[encoded data removed]",
      "text/plain": [
       "<matplotlib.figure.Figure at 0x7f11539a4b70>"
      ]
     },
     "metadata": {},
     "output_type": "display_data"
    }
   ],
   "source": [
    "## Plot\n",
    "xx = d['Iteration']\n",
    "yy = d['Score']['Mean']\n",
    "err =  d['Score']['Std']\n",
    "\n",
    "x1 = np.array(xx)\n",
    "y1 = np.array(yy)\n",
    "err1 = np.array(err)\n",
    "\n",
    "pl.figure(figsize=(10,6))\n",
    "\n",
    "pl.errorbar(xx , yy , err)\n",
    "\n",
    "ax = pl.gca()\n",
    "ax.set_xlim(0., 250)\n",
    "ax.set_ylim(-0.3, 0.1)\n",
    "\n",
    "pl.xlabel(\"Iteration\")\n",
    "pl.ylabel(\"Score (%)\")\n",
    "pl.show()"
   ]
  },
  {
   "cell_type": "markdown",
   "metadata": {},
   "source": [
    "### Population size -------\n",
    "\n",
    "The plot shows the correlation between the Score and the population size. <br>\n",
    "\n"
   ]
  },
  {
   "cell_type": "code",
   "execution_count": 34,
   "metadata": {},
   "outputs": [],
   "source": [
    "# data = read_pickle('score_population.pkl')\n",
    "\n",
    "# d = stat_data('Elitism',data)\n",
    "\n",
    "# print(d['Score']['Mean'])"
   ]
  }
 ],
 "metadata": {
  "kernelspec": {
   "display_name": "Python 3",
   "language": "python",
   "name": "python3"
  },
  "language_info": {
   "codemirror_mode": {
    "name": "ipython",
    "version": 3
   },
   "file_extension": ".py",
   "mimetype": "text/x-python",
   "name": "python",
   "nbconvert_exporter": "python",
   "pygments_lexer": "ipython3",
   "version": "3.6.5"
  }
 },
 "nbformat": 4,
 "nbformat_minor": 2
}
